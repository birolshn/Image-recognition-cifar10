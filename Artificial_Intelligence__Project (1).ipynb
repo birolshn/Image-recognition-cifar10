{
  "nbformat": 4,
  "nbformat_minor": 0,
  "metadata": {
    "colab": {
      "provenance": []
    },
    "kernelspec": {
      "name": "python3",
      "display_name": "Python 3"
    },
    "language_info": {
      "name": "python"
    }
  },
  "cells": [
    {
      "cell_type": "code",
      "execution_count": null,
      "metadata": {
        "id": "9l8bU-MewZvh"
      },
      "outputs": [],
      "source": [
        "import tensorflow as tf"
      ]
    },
    {
      "cell_type": "code",
      "source": [
        "from tensorflow.keras import datasets, layers, models\n",
        "import matplotlib.pyplot as plt\n",
        "import numpy as np\n"
      ],
      "metadata": {
        "id": "pN5qWR4NXS9u"
      },
      "execution_count": null,
      "outputs": []
    },
    {
      "cell_type": "code",
      "source": [
        "(X_train, y_train), (X_test, y_test) = datasets.cifar10.load_data()"
      ],
      "metadata": {
        "colab": {
          "base_uri": "https://localhost:8080/"
        },
        "id": "tk6ILel-XS7P",
        "outputId": "10cce4d9-382c-40b5-8c44-874edb65f4ef"
      },
      "execution_count": null,
      "outputs": [
        {
          "output_type": "stream",
          "name": "stdout",
          "text": [
            "Downloading data from https://www.cs.toronto.edu/~kriz/cifar-10-python.tar.gz\n",
            "170498071/170498071 [==============================] - 11s 0us/step\n"
          ]
        }
      ]
    },
    {
      "cell_type": "code",
      "source": [
        "# Define CIFAR-10 class names\n",
        "cifar_10_classes = ['airplane', 'automobile', 'bird', 'cat', 'deer', 'dog', 'frog', 'horse', 'ship', 'truck']"
      ],
      "metadata": {
        "id": "LALO8tQv21rD"
      },
      "execution_count": null,
      "outputs": []
    },
    {
      "cell_type": "code",
      "source": [
        "X_train.shape"
      ],
      "metadata": {
        "colab": {
          "base_uri": "https://localhost:8080/"
        },
        "id": "4kMovMv2XS5Q",
        "outputId": "f4dd3dbb-abd4-4705-9351-4b69c6a60bd8"
      },
      "execution_count": null,
      "outputs": [
        {
          "output_type": "execute_result",
          "data": {
            "text/plain": [
              "(50000, 32, 32, 3)"
            ]
          },
          "metadata": {},
          "execution_count": 5
        }
      ]
    },
    {
      "cell_type": "code",
      "source": [
        "X_test.shape"
      ],
      "metadata": {
        "colab": {
          "base_uri": "https://localhost:8080/"
        },
        "id": "jHZbmROBXS10",
        "outputId": "a93ae1e8-1121-456e-97d0-194cb7298278"
      },
      "execution_count": null,
      "outputs": [
        {
          "output_type": "execute_result",
          "data": {
            "text/plain": [
              "(10000, 32, 32, 3)"
            ]
          },
          "metadata": {},
          "execution_count": 6
        }
      ]
    },
    {
      "cell_type": "code",
      "source": [
        "X_train[0]"
      ],
      "metadata": {
        "colab": {
          "base_uri": "https://localhost:8080/",
          "height": 73
        },
        "id": "Ss-68eyMXSy7",
        "outputId": "518faeeb-1044-4fe0-c9a3-61420f2fb3bf"
      },
      "execution_count": null,
      "outputs": [
        {
          "output_type": "execute_result",
          "data": {
            "text/plain": [
              "array([[[ 59,  62,  63],\n",
              "        [ 43,  46,  45],\n",
              "        [ 50,  48,  43],\n",
              "        ...,\n",
              "        [158, 132, 108],\n",
              "        [152, 125, 102],\n",
              "        [148, 124, 103]],\n",
              "\n",
              "       [[ 16,  20,  20],\n",
              "        [  0,   0,   0],\n",
              "        [ 18,   8,   0],\n",
              "        ...,\n",
              "        [123,  88,  55],\n",
              "        [119,  83,  50],\n",
              "        [122,  87,  57]],\n",
              "\n",
              "       [[ 25,  24,  21],\n",
              "        [ 16,   7,   0],\n",
              "        [ 49,  27,   8],\n",
              "        ...,\n",
              "        [118,  84,  50],\n",
              "        [120,  84,  50],\n",
              "        [109,  73,  42]],\n",
              "\n",
              "       ...,\n",
              "\n",
              "       [[208, 170,  96],\n",
              "        [201, 153,  34],\n",
              "        [198, 161,  26],\n",
              "        ...,\n",
              "        [160, 133,  70],\n",
              "        [ 56,  31,   7],\n",
              "        [ 53,  34,  20]],\n",
              "\n",
              "       [[180, 139,  96],\n",
              "        [173, 123,  42],\n",
              "        [186, 144,  30],\n",
              "        ...,\n",
              "        [184, 148,  94],\n",
              "        [ 97,  62,  34],\n",
              "        [ 83,  53,  34]],\n",
              "\n",
              "       [[177, 144, 116],\n",
              "        [168, 129,  94],\n",
              "        [179, 142,  87],\n",
              "        ...,\n",
              "        [216, 184, 140],\n",
              "        [151, 118,  84],\n",
              "        [123,  92,  72]]], dtype=uint8)"
            ],
            "text/html": [
              "<style>\n",
              "      .ndarray_repr .ndarray_raw_data {\n",
              "        display: none;\n",
              "      }\n",
              "      .ndarray_repr.show_array .ndarray_raw_data {\n",
              "        display: block;\n",
              "      }\n",
              "      .ndarray_repr.show_array .ndarray_image_preview {\n",
              "        display: none;\n",
              "      }\n",
              "      </style>\n",
              "      <div id=\"id-5156cf62-521d-454c-895e-8b55170a42bb\" class=\"ndarray_repr\"><pre>ndarray (32, 32, 3) <button style=\"padding: 0 2px;\">show data</button></pre><img src=\"data:image/png;base64,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\" class=\"ndarray_image_preview\" /><pre class=\"ndarray_raw_data\">array([[[ 59,  62,  63],\n",
              "        [ 43,  46,  45],\n",
              "        [ 50,  48,  43],\n",
              "        ...,\n",
              "        [158, 132, 108],\n",
              "        [152, 125, 102],\n",
              "        [148, 124, 103]],\n",
              "\n",
              "       [[ 16,  20,  20],\n",
              "        [  0,   0,   0],\n",
              "        [ 18,   8,   0],\n",
              "        ...,\n",
              "        [123,  88,  55],\n",
              "        [119,  83,  50],\n",
              "        [122,  87,  57]],\n",
              "\n",
              "       [[ 25,  24,  21],\n",
              "        [ 16,   7,   0],\n",
              "        [ 49,  27,   8],\n",
              "        ...,\n",
              "        [118,  84,  50],\n",
              "        [120,  84,  50],\n",
              "        [109,  73,  42]],\n",
              "\n",
              "       ...,\n",
              "\n",
              "       [[208, 170,  96],\n",
              "        [201, 153,  34],\n",
              "        [198, 161,  26],\n",
              "        ...,\n",
              "        [160, 133,  70],\n",
              "        [ 56,  31,   7],\n",
              "        [ 53,  34,  20]],\n",
              "\n",
              "       [[180, 139,  96],\n",
              "        [173, 123,  42],\n",
              "        [186, 144,  30],\n",
              "        ...,\n",
              "        [184, 148,  94],\n",
              "        [ 97,  62,  34],\n",
              "        [ 83,  53,  34]],\n",
              "\n",
              "       [[177, 144, 116],\n",
              "        [168, 129,  94],\n",
              "        [179, 142,  87],\n",
              "        ...,\n",
              "        [216, 184, 140],\n",
              "        [151, 118,  84],\n",
              "        [123,  92,  72]]], dtype=uint8)</pre></div><script>\n",
              "      (() => {\n",
              "      const titles = ['show data', 'hide data'];\n",
              "      let index = 0\n",
              "      document.querySelector('#id-5156cf62-521d-454c-895e-8b55170a42bb button').onclick = (e) => {\n",
              "        document.querySelector('#id-5156cf62-521d-454c-895e-8b55170a42bb').classList.toggle('show_array');\n",
              "        index = (++index) % 2;\n",
              "        document.querySelector('#id-5156cf62-521d-454c-895e-8b55170a42bb button').textContent = titles[index];\n",
              "        e.preventDefault();\n",
              "        e.stopPropagation();\n",
              "      }\n",
              "      })();\n",
              "    </script>"
            ]
          },
          "metadata": {},
          "execution_count": 7
        }
      ]
    },
    {
      "cell_type": "code",
      "source": [
        "plt.imshow(X_train[5])"
      ],
      "metadata": {
        "colab": {
          "base_uri": "https://localhost:8080/",
          "height": 447
        },
        "id": "lu7RJXzpXSwN",
        "outputId": "b994d4a5-3e4a-4e23-dfbc-5b28cd0755a4"
      },
      "execution_count": null,
      "outputs": [
        {
          "output_type": "execute_result",
          "data": {
            "text/plain": [
              "<matplotlib.image.AxesImage at 0x7edce2bedfc0>"
            ]
          },
          "metadata": {},
          "execution_count": 8
        },
        {
          "output_type": "display_data",
          "data": {
            "text/plain": [
              "<Figure size 640x480 with 1 Axes>"
            ],
            "image/png": "[encoded data removed]"
          },
          "metadata": {}
        }
      ]
    },
    {
      "cell_type": "code",
      "source": [
        "print(X_train[5]) ### We checked the image pixel by pixel"
      ],
      "metadata": {
        "colab": {
          "base_uri": "https://localhost:8080/"
        },
        "id": "sGr_uKi1FomN",
        "outputId": "67794385-2070-46a4-cc92-4030b9f5449b"
      },
      "execution_count": null,
      "outputs": [
        {
          "output_type": "stream",
          "name": "stdout",
          "text": [
            "[[[159 102 101]\n",
            "  [150  91  95]\n",
            "  [153  95  97]\n",
            "  ...\n",
            "  [ 91  71  56]\n",
            "  [ 74  63  55]\n",
            "  [ 76  58  55]]\n",
            "\n",
            " [[142  75  68]\n",
            "  [146  72  66]\n",
            "  [155  76  65]\n",
            "  ...\n",
            "  [127 105  71]\n",
            "  [122 111  93]\n",
            "  [ 86  69  61]]\n",
            "\n",
            " [[109  67  75]\n",
            "  [ 99  58  60]\n",
            "  [105  59  52]\n",
            "  ...\n",
            "  [137 112  80]\n",
            "  [163 132 105]\n",
            "  [ 93  72  71]]\n",
            "\n",
            " ...\n",
            "\n",
            " [[244 129  70]\n",
            "  [240 123  65]\n",
            "  [241 122  65]\n",
            "  ...\n",
            "  [156  42  15]\n",
            "  [179  59  26]\n",
            "  [200  73  36]]\n",
            "\n",
            " [[246 133  74]\n",
            "  [243 128  72]\n",
            "  [243 127  70]\n",
            "  ...\n",
            "  [162  44  14]\n",
            "  [178  56  22]\n",
            "  [192  65  27]]\n",
            "\n",
            " [[246 139  82]\n",
            "  [243 133  78]\n",
            "  [244 132  77]\n",
            "  ...\n",
            "  [166  47  14]\n",
            "  [173  51  17]\n",
            "  [182  57  19]]]\n"
          ]
        }
      ]
    },
    {
      "cell_type": "code",
      "source": [
        "X_train = tf.keras.utils.normalize(X_train, axis = 1) # we can normalize all values\n",
        "X_test = tf.keras.utils.normalize(X_test, axis = 1)   # and we can see the all pixels between 0 and 1 using axis\n",
        "plt.imshow(X_train[5])"
      ],
      "metadata": {
        "colab": {
          "base_uri": "https://localhost:8080/",
          "height": 447
        },
        "id": "usyRqTxOFojK",
        "outputId": "dff20dc5-aa60-4308-c8f8-b3b2a2398e3d"
      },
      "execution_count": null,
      "outputs": [
        {
          "output_type": "execute_result",
          "data": {
            "text/plain": [
              "<matplotlib.image.AxesImage at 0x7edce0b18b20>"
            ]
          },
          "metadata": {},
          "execution_count": 11
        },
        {
          "output_type": "display_data",
          "data": {
            "text/plain": [
              "<Figure size 640x480 with 1 Axes>"
            ],
            "image/png": "[encoded data removed]"
          },
          "metadata": {}
        }
      ]
    },
    {
      "cell_type": "code",
      "source": [
        "print(X_train[5])  # you can see all values are normalized."
      ],
      "metadata": {
        "colab": {
          "base_uri": "https://localhost:8080/"
        },
        "id": "pYWTABRXFof7",
        "outputId": "05129596-400b-4df6-cb99-9a985d3a238d"
      },
      "execution_count": null,
      "outputs": [
        {
          "output_type": "stream",
          "name": "stdout",
          "text": [
            "[[[0.15135974 0.18209583 0.28065302]\n",
            "  [0.14449955 0.183292   0.3013778 ]\n",
            "  [0.14582159 0.20343452 0.32802671]\n",
            "  ...\n",
            "  [0.11637761 0.14693244 0.1198155 ]\n",
            "  [0.08785805 0.13060481 0.1272797 ]\n",
            "  [0.07578255 0.09738084 0.10701057]]\n",
            "\n",
            " [[0.13517662 0.13389399 0.18895451]\n",
            "  [0.14064623 0.14502224 0.20937826]\n",
            "  [0.14772776 0.16274762 0.21981171]\n",
            "  ...\n",
            "  [0.16241711 0.21729446 0.15190893]\n",
            "  [0.14484705 0.23011323 0.2152184 ]\n",
            "  [0.08575394 0.11584962 0.11868446]]\n",
            "\n",
            " [[0.10376234 0.11961197 0.20840571]\n",
            "  [0.0953697  0.11682347 0.19034387]\n",
            "  [0.10007364 0.12634354 0.17584937]\n",
            "  ...\n",
            "  [0.17520586 0.23178075 0.171165  ]\n",
            "  [0.19352515 0.27364816 0.24298851]\n",
            "  [0.09273391 0.12088656 0.13814092]]\n",
            "\n",
            " ...\n",
            "\n",
            " [[0.23227532 0.23029767 0.194512  ]\n",
            "  [0.23119928 0.24774632 0.20620586]\n",
            "  [0.22969283 0.26125275 0.21981171]\n",
            "  ...\n",
            "  [0.19950448 0.08691778 0.03209344]\n",
            "  [0.21252149 0.12231244 0.06016858]\n",
            "  [0.19942777 0.12256554 0.07004329]]\n",
            "\n",
            " [[0.23417922 0.23743868 0.20562697]\n",
            "  [0.23408927 0.25781731 0.22841265]\n",
            "  [0.231599   0.27195983 0.23672031]\n",
            "  ...\n",
            "  [0.20717773 0.09105672 0.02995387]\n",
            "  [0.21133422 0.11609316 0.05091188]\n",
            "  [0.19145065 0.1091337  0.05253246]]\n",
            "\n",
            " [[0.23417922 0.2481502  0.22785691]\n",
            "  [0.23408927 0.2678883  0.24744704]\n",
            "  [0.23255208 0.28266691 0.26039234]\n",
            "  ...\n",
            "  [0.21229323 0.09726514 0.02995387]\n",
            "  [0.20539786 0.1057277  0.039341  ]\n",
            "  [0.18147927 0.09570186 0.03696729]]]\n"
          ]
        }
      ]
    },
    {
      "cell_type": "code",
      "source": [
        "print(y_train[5])   #just to check that we have labels inside our network"
      ],
      "metadata": {
        "colab": {
          "base_uri": "https://localhost:8080/"
        },
        "id": "4aMdFdT5FocH",
        "outputId": "fe73834e-cb65-4547-8530-75aaa039324c"
      },
      "execution_count": null,
      "outputs": [
        {
          "output_type": "stream",
          "name": "stdout",
          "text": [
            "[1]\n"
          ]
        }
      ]
    },
    {
      "cell_type": "code",
      "source": [
        "IMG_SIZE = 32           # Resizing image to make it suitable for apply Convolution operation\n",
        "X_trainr = np.array(X_train).reshape(-1, IMG_SIZE, IMG_SIZE, 3)   #increasing one dimension for kernel operation\n",
        "X_testr = np.array(X_test).reshape(-1, IMG_SIZE, IMG_SIZE, 3)\n",
        "print (\"Training Samples dimension\",X_trainr.shape)\n",
        "print (\"Testing Samples dimension\",X_testr.shape)"
      ],
      "metadata": {
        "colab": {
          "base_uri": "https://localhost:8080/"
        },
        "id": "ukP33IP2FoY1",
        "outputId": "9e07ebca-b484-4b62-b2b1-e972d82f9588"
      },
      "execution_count": null,
      "outputs": [
        {
          "output_type": "stream",
          "name": "stdout",
          "text": [
            "Training Samples dimension (50000, 32, 32, 3)\n",
            "Testing Samples dimension (10000, 32, 32, 3)\n"
          ]
        }
      ]
    },
    {
      "cell_type": "code",
      "source": [
        "from tensorflow.keras.models import Sequential\n",
        "from tensorflow.keras.layers import Dense, Dropout, Activation, Flatten, Conv2D, MaxPooling2D"
      ],
      "metadata": {
        "id": "odgurLL1FoQN"
      },
      "execution_count": null,
      "outputs": []
    },
    {
      "cell_type": "code",
      "source": [
        "model = Sequential()  # Creating a neural network\n",
        "\n",
        "# First Convolution Layer 32 -3 + 1 = 30x30\n",
        "model.add(Conv2D(64, (3,3), input_shape = X_trainr.shape[1:])) # Only for first Convolution Layer to mention input layer size\n",
        "model.add(Activation(\"relu\"))  # activaiton function to make it non-linear\n",
        "model.add(MaxPooling2D(pool_size=(2,2))) # MaxPooling single maximum value of 2x2 and MaxPooling2D divides in half the convolution layer = 15x15\n",
        "\n",
        "# 2nd Convolution layer  15-3+1 = 13x13\n",
        "model.add(Conv2D(64, (3,3))) # 2nd Convolution Layer\n",
        "model.add(Activation(\"relu\")) # activaiton function\n",
        "model.add(MaxPooling2D(pool_size=(2,2))) # MaxPooling\n",
        "\n",
        "# 3rd convolution Layer  6-3+1 = 4x4\n",
        "model.add(Conv2D(64, (3,3))) # 3rd Convolution Layer\n",
        "model.add(Activation(\"relu\"))  # activaiton function\n",
        "model.add(MaxPooling2D(pool_size=(2,2)))  # MaxPooling\n",
        "\n",
        "# Fully Connected Layer\n",
        "model.add(Flatten()) # before using fully connected layer, need to be flatten\n",
        "model.add(Dense(64))\n",
        "model.add(Activation(\"relu\"))\n",
        "\n",
        "# Fully Connected Layer 2\n",
        "model.add(Dense(32))\n",
        "model.add(Activation(\"relu\"))\n",
        "\n",
        "#Last Fully Connected Layer, output must be equal to number of classes, 10 (0-9)\n",
        "model.add(Dense(10)) # This last Dense layer must be equal to 10\n",
        "model.add(Activation('softmax')) # Activaiton function is changed to  softmax (class probabilities)\n"
      ],
      "metadata": {
        "id": "Sqdu-BO-SeOM"
      },
      "execution_count": null,
      "outputs": []
    },
    {
      "cell_type": "code",
      "source": [
        "model.summary()"
      ],
      "metadata": {
        "colab": {
          "base_uri": "https://localhost:8080/"
        },
        "id": "4hdDbMf4SeLQ",
        "outputId": "647d7ab7-309b-428e-84bb-67405c436f54"
      },
      "execution_count": null,
      "outputs": [
        {
          "output_type": "stream",
          "name": "stdout",
          "text": [
            "Model: \"sequential\"\n",
            "_________________________________________________________________\n",
            " Layer (type)                Output Shape              Param #   \n",
            "=================================================================\n",
            " conv2d (Conv2D)             (None, 30, 30, 64)        1792      \n",
            "                                                                 \n",
            " activation (Activation)     (None, 30, 30, 64)        0         \n",
            "                                                                 \n",
            " max_pooling2d (MaxPooling2  (None, 15, 15, 64)        0         \n",
            " D)                                                              \n",
            "                                                                 \n",
            " conv2d_1 (Conv2D)           (None, 13, 13, 64)        36928     \n",
            "                                                                 \n",
            " activation_1 (Activation)   (None, 13, 13, 64)        0         \n",
            "                                                                 \n",
            " max_pooling2d_1 (MaxPoolin  (None, 6, 6, 64)          0         \n",
            " g2D)                                                            \n",
            "                                                                 \n",
            " conv2d_2 (Conv2D)           (None, 4, 4, 64)          36928     \n",
            "                                                                 \n",
            " activation_2 (Activation)   (None, 4, 4, 64)          0         \n",
            "                                                                 \n",
            " max_pooling2d_2 (MaxPoolin  (None, 2, 2, 64)          0         \n",
            " g2D)                                                            \n",
            "                                                                 \n",
            " flatten (Flatten)           (None, 256)               0         \n",
            "                                                                 \n",
            " dense (Dense)               (None, 64)                16448     \n",
            "                                                                 \n",
            " activation_3 (Activation)   (None, 64)                0         \n",
            "                                                                 \n",
            " dense_1 (Dense)             (None, 32)                2080      \n",
            "                                                                 \n",
            " activation_4 (Activation)   (None, 32)                0         \n",
            "                                                                 \n",
            " dense_2 (Dense)             (None, 10)                330       \n",
            "                                                                 \n",
            " activation_5 (Activation)   (None, 10)                0         \n",
            "                                                                 \n",
            "=================================================================\n",
            "Total params: 94506 (369.16 KB)\n",
            "Trainable params: 94506 (369.16 KB)\n",
            "Non-trainable params: 0 (0.00 Byte)\n",
            "_________________________________________________________________\n"
          ]
        }
      ]
    },
    {
      "cell_type": "code",
      "source": [
        "print(\"Total Training Samples = \", len(X_trainr))"
      ],
      "metadata": {
        "colab": {
          "base_uri": "https://localhost:8080/"
        },
        "id": "CY5D8J48SeIs",
        "outputId": "6e89ba1a-ef36-41be-d477-b4cee81d3986"
      },
      "execution_count": null,
      "outputs": [
        {
          "output_type": "stream",
          "name": "stdout",
          "text": [
            "Total Training Samples =  50000\n"
          ]
        }
      ]
    },
    {
      "cell_type": "code",
      "source": [
        "model.compile(loss=\"sparse_categorical_crossentropy\", optimizer='adam', metrics=['accuracy'])"
      ],
      "metadata": {
        "id": "0q7FN7baSeGD"
      },
      "execution_count": null,
      "outputs": []
    },
    {
      "cell_type": "code",
      "source": [
        "model.fit(X_trainr, y_train, epochs=30, validation_split= 0.3) # We create 30 epochs for higher accuracy and lower loss."
      ],
      "metadata": {
        "colab": {
          "base_uri": "https://localhost:8080/"
        },
        "id": "CPLcSc-pSeDH",
        "outputId": "acae8c1b-e290-4c23-9dc6-e53ae44de8eb"
      },
      "execution_count": null,
      "outputs": [
        {
          "output_type": "stream",
          "name": "stdout",
          "text": [
            "Epoch 1/30\n",
            "1094/1094 [==============================] - 78s 71ms/step - loss: 1.6488 - accuracy: 0.3959 - val_loss: 1.5187 - val_accuracy: 0.4523\n",
            "Epoch 2/30\n",
            "1094/1094 [==============================] - 74s 68ms/step - loss: 1.4385 - accuracy: 0.4854 - val_loss: 1.4097 - val_accuracy: 0.4943\n",
            "Epoch 3/30\n",
            "1094/1094 [==============================] - 78s 72ms/step - loss: 1.2841 - accuracy: 0.5425 - val_loss: 1.2342 - val_accuracy: 0.5647\n",
            "Epoch 4/30\n",
            "1094/1094 [==============================] - 76s 69ms/step - loss: 1.1820 - accuracy: 0.5831 - val_loss: 1.2092 - val_accuracy: 0.5707\n",
            "Epoch 5/30\n",
            "1094/1094 [==============================] - 80s 73ms/step - loss: 1.1082 - accuracy: 0.6081 - val_loss: 1.0957 - val_accuracy: 0.6161\n",
            "Epoch 6/30\n",
            "1094/1094 [==============================] - 75s 68ms/step - loss: 1.0424 - accuracy: 0.6334 - val_loss: 1.1592 - val_accuracy: 0.5949\n",
            "Epoch 7/30\n",
            "1094/1094 [==============================] - 79s 72ms/step - loss: 1.0025 - accuracy: 0.6478 - val_loss: 1.0794 - val_accuracy: 0.6191\n",
            "Epoch 8/30\n",
            "1094/1094 [==============================] - 75s 69ms/step - loss: 0.9469 - accuracy: 0.6676 - val_loss: 1.0492 - val_accuracy: 0.6327\n",
            "Epoch 9/30\n",
            "1094/1094 [==============================] - 77s 70ms/step - loss: 0.9132 - accuracy: 0.6802 - val_loss: 1.0534 - val_accuracy: 0.6311\n",
            "Epoch 10/30\n",
            "1094/1094 [==============================] - 79s 72ms/step - loss: 0.8779 - accuracy: 0.6904 - val_loss: 1.0051 - val_accuracy: 0.6507\n",
            "Epoch 11/30\n",
            "1094/1094 [==============================] - 76s 69ms/step - loss: 0.8435 - accuracy: 0.7006 - val_loss: 1.0277 - val_accuracy: 0.6410\n",
            "Epoch 12/30\n",
            "1094/1094 [==============================] - 77s 71ms/step - loss: 0.8213 - accuracy: 0.7094 - val_loss: 1.0572 - val_accuracy: 0.6368\n",
            "Epoch 13/30\n",
            "1094/1094 [==============================] - 77s 70ms/step - loss: 0.7942 - accuracy: 0.7225 - val_loss: 1.0840 - val_accuracy: 0.6340\n",
            "Epoch 14/30\n",
            "1094/1094 [==============================] - 75s 68ms/step - loss: 0.7671 - accuracy: 0.7293 - val_loss: 1.0248 - val_accuracy: 0.6477\n",
            "Epoch 15/30\n",
            "1094/1094 [==============================] - 75s 68ms/step - loss: 0.7476 - accuracy: 0.7364 - val_loss: 0.9940 - val_accuracy: 0.6663\n",
            "Epoch 16/30\n",
            "1094/1094 [==============================] - 77s 70ms/step - loss: 0.7269 - accuracy: 0.7424 - val_loss: 1.0317 - val_accuracy: 0.6549\n",
            "Epoch 17/30\n",
            "1094/1094 [==============================] - 78s 71ms/step - loss: 0.7119 - accuracy: 0.7484 - val_loss: 1.0250 - val_accuracy: 0.6611\n",
            "Epoch 18/30\n",
            "1094/1094 [==============================] - 75s 68ms/step - loss: 0.6789 - accuracy: 0.7589 - val_loss: 1.0183 - val_accuracy: 0.6723\n",
            "Epoch 19/30\n",
            "1094/1094 [==============================] - 78s 71ms/step - loss: 0.6658 - accuracy: 0.7649 - val_loss: 1.0072 - val_accuracy: 0.6677\n",
            "Epoch 20/30\n",
            "1094/1094 [==============================] - 81s 74ms/step - loss: 0.6481 - accuracy: 0.7713 - val_loss: 1.0455 - val_accuracy: 0.6661\n",
            "Epoch 21/30\n",
            "1094/1094 [==============================] - 75s 69ms/step - loss: 0.6286 - accuracy: 0.7786 - val_loss: 1.1769 - val_accuracy: 0.6386\n",
            "Epoch 22/30\n",
            "1094/1094 [==============================] - 75s 68ms/step - loss: 0.6078 - accuracy: 0.7850 - val_loss: 1.0546 - val_accuracy: 0.6675\n",
            "Epoch 23/30\n",
            "1094/1094 [==============================] - 75s 69ms/step - loss: 0.5952 - accuracy: 0.7873 - val_loss: 1.0960 - val_accuracy: 0.6668\n",
            "Epoch 24/30\n",
            "1094/1094 [==============================] - 76s 69ms/step - loss: 0.5743 - accuracy: 0.7968 - val_loss: 1.0974 - val_accuracy: 0.6661\n",
            "Epoch 25/30\n",
            "1094/1094 [==============================] - 73s 67ms/step - loss: 0.5619 - accuracy: 0.8022 - val_loss: 1.1325 - val_accuracy: 0.6611\n",
            "Epoch 26/30\n",
            "1094/1094 [==============================] - 75s 69ms/step - loss: 0.5486 - accuracy: 0.8051 - val_loss: 1.1261 - val_accuracy: 0.6566\n",
            "Epoch 27/30\n",
            "1094/1094 [==============================] - 78s 72ms/step - loss: 0.5325 - accuracy: 0.8095 - val_loss: 1.1950 - val_accuracy: 0.6487\n",
            "Epoch 28/30\n",
            "1094/1094 [==============================] - 77s 70ms/step - loss: 0.5213 - accuracy: 0.8166 - val_loss: 1.1319 - val_accuracy: 0.6708\n",
            "Epoch 29/30\n",
            "1094/1094 [==============================] - 75s 69ms/step - loss: 0.5025 - accuracy: 0.8210 - val_loss: 1.1426 - val_accuracy: 0.6674\n",
            "Epoch 30/30\n",
            "1094/1094 [==============================] - 75s 68ms/step - loss: 0.4970 - accuracy: 0.8238 - val_loss: 1.2243 - val_accuracy: 0.6573\n"
          ]
        },
        {
          "output_type": "execute_result",
          "data": {
            "text/plain": [
              "<keras.src.callbacks.History at 0x7edc28491600>"
            ]
          },
          "metadata": {},
          "execution_count": 26
        }
      ]
    },
    {
      "cell_type": "code",
      "source": [
        "X_testr = tf.keras.utils.normalize(X_testr, axis = 1)  # X_testr is normalized because predict method gets normalized variables."
      ],
      "metadata": {
        "id": "DNhUL4RlGB2t"
      },
      "execution_count": null,
      "outputs": []
    },
    {
      "cell_type": "code",
      "source": [
        "predictions = model.predict([X_testr])  # Prediction operation is done."
      ],
      "metadata": {
        "colab": {
          "base_uri": "https://localhost:8080/"
        },
        "id": "JBux3Lnecg8f",
        "outputId": "e4292c78-cab6-4467-91c9-4cb1717a948b"
      },
      "execution_count": null,
      "outputs": [
        {
          "output_type": "stream",
          "name": "stdout",
          "text": [
            "313/313 [==============================] - 7s 21ms/step\n"
          ]
        }
      ]
    },
    {
      "cell_type": "code",
      "source": [
        "print(predictions)"
      ],
      "metadata": {
        "colab": {
          "base_uri": "https://localhost:8080/"
        },
        "id": "A_QNx9grcgR6",
        "outputId": "17e5545d-25e2-48fe-d906-20023abd212f"
      },
      "execution_count": null,
      "outputs": [
        {
          "output_type": "stream",
          "name": "stdout",
          "text": [
            "[[3.1246433e-05 3.2872561e-04 1.0470022e-04 ... 6.5954810e-05\n",
            "  2.1852908e-01 1.0685923e-03]\n",
            " [1.5573360e-01 1.8575646e-02 2.1158810e-06 ... 1.3252089e-06\n",
            "  8.1576830e-01 9.8949764e-03]\n",
            " [1.8539903e-01 7.7348150e-02 4.4732834e-03 ... 3.0168833e-04\n",
            "  6.2521738e-01 8.6173110e-02]\n",
            " ...\n",
            " [1.8689256e-05 5.1448705e-08 7.1482416e-03 ... 2.8990131e-02\n",
            "  1.6191404e-04 9.4584684e-05]\n",
            " [6.8120158e-01 1.4163122e-01 7.7787317e-02 ... 1.8779640e-03\n",
            "  1.5198139e-03 6.2953332e-05]\n",
            " [2.1289965e-09 8.2621590e-09 4.9974624e-08 ... 9.9985695e-01\n",
            "  1.5894737e-09 3.9803405e-10]]\n"
          ]
        }
      ]
    },
    {
      "cell_type": "code",
      "source": [
        "predicted = np.argmax(predictions[20])  # We create a variable named predicted and we predicted 20th image using argmax method from numpy."
      ],
      "metadata": {
        "id": "ViFMtftYhu1X"
      },
      "execution_count": null,
      "outputs": []
    },
    {
      "cell_type": "code",
      "source": [
        "cifar_10_classes[predicted] # We get the result of prediction operation."
      ],
      "metadata": {
        "colab": {
          "base_uri": "https://localhost:8080/",
          "height": 36
        },
        "id": "1ZWGB7xe5WGF",
        "outputId": "d1c25a8b-446e-4656-839e-7e2dfe51f115"
      },
      "execution_count": null,
      "outputs": [
        {
          "output_type": "execute_result",
          "data": {
            "text/plain": [
              "'horse'"
            ],
            "application/vnd.google.colaboratory.intrinsic+json": {
              "type": "string"
            }
          },
          "metadata": {},
          "execution_count": 46
        }
      ]
    },
    {
      "cell_type": "code",
      "source": [
        "plt.imshow(X_test[20]) # This is the proof."
      ],
      "metadata": {
        "colab": {
          "base_uri": "https://localhost:8080/",
          "height": 447
        },
        "id": "3mUn1gkghuoa",
        "outputId": "eb09e0ac-5679-4c6f-c9bf-4353d8e845a7"
      },
      "execution_count": null,
      "outputs": [
        {
          "output_type": "execute_result",
          "data": {
            "text/plain": [
              "<matplotlib.image.AxesImage at 0x7edc3dec7fd0>"
            ]
          },
          "metadata": {},
          "execution_count": 48
        },
        {
          "output_type": "display_data",
          "data": {
            "text/plain": [
              "<Figure size 640x480 with 1 Axes>"
            ],
            "image/png": "[encoded data removed]"
          },
          "metadata": {}
        }
      ]
    }
  ]
}